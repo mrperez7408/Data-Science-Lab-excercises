{
 "cells": [
  {
   "cell_type": "markdown",
   "metadata": {},
   "source": [
    "<center>\n",
    "    <img src=\"https://cf-courses-data.s3.us.cloud-object-storage.appdomain.cloud/IBMDeveloperSkillsNetwork-DS0105EN-SkillsNetwork/labs/Module2/images/SN_web_lightmode.png\" width=\"300\" alt=\"cognitiveclass.ai logo\">\n",
    "</center>\n"
   ]
  },
  {
   "cell_type": "markdown",
   "metadata": {},
   "source": [
    "#### Add your code below following the instructions given in the course\n"
   ]
  },
  {
   "cell_type": "markdown",
   "metadata": {},
   "source": [
    "# Data Science Tools Ecosystem Using H1 style Heading"
   ]
  },
  {
   "cell_type": "markdown",
   "metadata": {
    "tags": []
   },
   "source": [
    "## In this notebook, Data Science Tools abd Ecosystem are summarized. \n",
    "## This is for my lab"
   ]
  },
  {
   "cell_type": "markdown",
   "metadata": {},
   "source": [
    "**Objectives:**\n",
    "- Popular languages for Data Scientists\n",
    "- Common used libraries within Data Scientists\n",
    "- Examples of simple arithmetic expressions"
   ]
  },
  {
   "cell_type": "markdown",
   "metadata": {},
   "source": [
    "# Some of the popular languages that Data Scientist use are: \n",
    "\n",
    "1. Python: Python is considered the top language used by data scientists, for its easy syntax and abundant data processing libraries like Pandas, NumPy, etc.\n",
    "\n",
    "2. R: R is specifically designed for statistics and data modeling and is popularly used in academia and research.\n",
    "\n",
    "3. SQL: SQL (Structured Query Language) is used to manage and manipulate databases. Data scientists use SQL to query, update, or modify databases.\n",
    "\n",
    "4. Java: Some data scientists use Java for building scale-able data processing systems.\n",
    "\n",
    "5. Scala: Scala is commonly used with Apache Spark, a big-data processing framework."
   ]
  },
  {
   "cell_type": "markdown",
   "metadata": {},
   "source": [
    "# Some of the commonly used libraries used by Data Scientists include:\n",
    "\n",
    "1.Pandas: This is a Python library used for data manipulation and analysis. It provides functionality for manipulating data frames and includes methods for reading and writing data between in-memory data structures and various file formats.\n",
    "\n",
    "2. NumPy: Another Python library, NumPy (Numerical Python) supports arrays and matrices with a large collection of high-level mathematical functions to operate on these arrays.\n",
    "\n",
    "3. Matplotlib: This is a popular Python library for data visualization. It can create bar charts, histograms, scatter plots, etc. It is highly customizable and very powerful.\n",
    "\n",
    "4. scikit-learn: This Python library is the go-to library for machine learning algorithms. It contains a large number of tools for regression, classification, clustering, model selection, and preprocessing.\n",
    "\n",
    "5. TensorFlow: TensorFlow is an open-source library developed by Google for building and training machine learning and deep learning models. It uses high-performance numerical computation and is highly scalable. It can run on a wide range of platforms, from individual computers to clusters of servers, from CPUs to GPUs. \n"
   ]
  },
  {
   "cell_type": "markdown",
   "metadata": {},
   "source": [
    "| Data Science Tools |\n",
    "| --------- |\n",
    "| Jupyter Notenooks |\n",
    "|Anaconda|\n",
    "|Rstudio|\n"
   ]
  },
  {
   "cell_type": "markdown",
   "metadata": {},
   "source": [
    "### Below are few examples of evaluating arithmetic expressions in Python"
   ]
  },
  {
   "cell_type": "code",
   "execution_count": 3,
   "metadata": {},
   "outputs": [
    {
     "name": "stdout",
     "output_type": "stream",
     "text": [
      "17\n"
     ]
    }
   ],
   "source": [
    "# This is a simple arithmetic expression to multiply then add integers\n",
    "print((3*4)+5)"
   ]
  },
  {
   "cell_type": "code",
   "execution_count": 5,
   "metadata": {},
   "outputs": [
    {
     "name": "stdout",
     "output_type": "stream",
     "text": [
      "3.3333333333333335\n"
     ]
    }
   ],
   "source": [
    "# This will convert 200 minutes to hours by dividing by 60\n",
    "print(200/60)"
   ]
  },
  {
   "cell_type": "markdown",
   "metadata": {},
   "source": [
    "## Author: Marcos Pérez"
   ]
  },
  {
   "cell_type": "code",
   "execution_count": null,
   "metadata": {},
   "outputs": [],
   "source": []
  }
 ],
 "metadata": {
  "kernelspec": {
   "display_name": "anaconda-2022.05-py39",
   "language": "python",
   "name": "conda-env-anaconda-2022.05-py39-py"
  },
  "language_info": {
   "codemirror_mode": {
    "name": "ipython",
    "version": 3
   },
   "file_extension": ".py",
   "mimetype": "text/x-python",
   "name": "python",
   "nbconvert_exporter": "python",
   "pygments_lexer": "ipython3",
   "version": "3.9.12"
  }
 },
 "nbformat": 4,
 "nbformat_minor": 4
}
